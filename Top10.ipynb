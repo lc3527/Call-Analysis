{
 "cells": [
  {
   "cell_type": "code",
   "execution_count": 22,
   "metadata": {},
   "outputs": [],
   "source": [
    "import csv\n",
    "import numpy as np\n",
    "import pandas as pd"
   ]
  },
  {
   "cell_type": "code",
   "execution_count": 23,
   "metadata": {},
   "outputs": [
    {
     "name": "stderr",
     "output_type": "stream",
     "text": [
      "/opt/anaconda3/lib/python3.7/site-packages/IPython/core/interactiveshell.py:3063: DtypeWarning: Columns (20,31,32) have mixed types.Specify dtype option on import or set low_memory=False.\n",
      "  interactivity=interactivity, compiler=compiler, result=result)\n"
     ]
    }
   ],
   "source": [
    "path = \"311_Service_Requests_2020.csv\"\n",
    "df = pd.read_csv(path)"
   ]
  },
  {
   "cell_type": "markdown",
   "metadata": {},
   "source": [
    "# Show a piece of data"
   ]
  },
  {
   "cell_type": "code",
   "execution_count": 24,
   "metadata": {},
   "outputs": [
    {
     "data": {
      "text/html": [
       "<div>\n",
       "<style scoped>\n",
       "    .dataframe tbody tr th:only-of-type {\n",
       "        vertical-align: middle;\n",
       "    }\n",
       "\n",
       "    .dataframe tbody tr th {\n",
       "        vertical-align: top;\n",
       "    }\n",
       "\n",
       "    .dataframe thead th {\n",
       "        text-align: right;\n",
       "    }\n",
       "</style>\n",
       "<table border=\"1\" class=\"dataframe\">\n",
       "  <thead>\n",
       "    <tr style=\"text-align: right;\">\n",
       "      <th></th>\n",
       "      <th>Unique Key</th>\n",
       "      <th>Created Date</th>\n",
       "      <th>Closed Date</th>\n",
       "      <th>Agency</th>\n",
       "      <th>Agency Name</th>\n",
       "      <th>Complaint Type</th>\n",
       "      <th>Descriptor</th>\n",
       "      <th>Location Type</th>\n",
       "      <th>Incident Zip</th>\n",
       "      <th>Incident Address</th>\n",
       "      <th>...</th>\n",
       "      <th>Vehicle Type</th>\n",
       "      <th>Taxi Company Borough</th>\n",
       "      <th>Taxi Pick Up Location</th>\n",
       "      <th>Bridge Highway Name</th>\n",
       "      <th>Bridge Highway Direction</th>\n",
       "      <th>Road Ramp</th>\n",
       "      <th>Bridge Highway Segment</th>\n",
       "      <th>Latitude</th>\n",
       "      <th>Longitude</th>\n",
       "      <th>Location</th>\n",
       "    </tr>\n",
       "  </thead>\n",
       "  <tbody>\n",
       "    <tr>\n",
       "      <th>0</th>\n",
       "      <td>45285347</td>\n",
       "      <td>01/01/2020 12:00:00 AM</td>\n",
       "      <td>01/10/2020 12:00:01 AM</td>\n",
       "      <td>DOHMH</td>\n",
       "      <td>Department of Health and Mental Hygiene</td>\n",
       "      <td>Food Poisoning</td>\n",
       "      <td>3 or More</td>\n",
       "      <td>Restaurant/Bar/Deli/Bakery</td>\n",
       "      <td>11229.0</td>\n",
       "      <td>3442 NOSTRAND AVENUE</td>\n",
       "      <td>...</td>\n",
       "      <td>NaN</td>\n",
       "      <td>NaN</td>\n",
       "      <td>NaN</td>\n",
       "      <td>NaN</td>\n",
       "      <td>NaN</td>\n",
       "      <td>NaN</td>\n",
       "      <td>NaN</td>\n",
       "      <td>40.600129</td>\n",
       "      <td>-73.941843</td>\n",
       "      <td>(40.6001292057807, -73.94184291675883)</td>\n",
       "    </tr>\n",
       "    <tr>\n",
       "      <th>1</th>\n",
       "      <td>45285651</td>\n",
       "      <td>01/01/2020 12:00:00 AM</td>\n",
       "      <td>01/02/2020 12:00:01 AM</td>\n",
       "      <td>DOHMH</td>\n",
       "      <td>Department of Health and Mental Hygiene</td>\n",
       "      <td>Food Poisoning</td>\n",
       "      <td>1 or 2</td>\n",
       "      <td>Restaurant/Bar/Deli/Bakery</td>\n",
       "      <td>10458.0</td>\n",
       "      <td>2701 DECATUR AVENUE</td>\n",
       "      <td>...</td>\n",
       "      <td>NaN</td>\n",
       "      <td>NaN</td>\n",
       "      <td>NaN</td>\n",
       "      <td>NaN</td>\n",
       "      <td>NaN</td>\n",
       "      <td>NaN</td>\n",
       "      <td>NaN</td>\n",
       "      <td>40.864866</td>\n",
       "      <td>-73.888783</td>\n",
       "      <td>(40.86486556770799, -73.88878325729915)</td>\n",
       "    </tr>\n",
       "    <tr>\n",
       "      <th>2</th>\n",
       "      <td>45285821</td>\n",
       "      <td>01/01/2020 12:00:00 AM</td>\n",
       "      <td>01/02/2020 09:50:09 AM</td>\n",
       "      <td>DOHMH</td>\n",
       "      <td>Department of Health and Mental Hygiene</td>\n",
       "      <td>Food Poisoning</td>\n",
       "      <td>1 or 2</td>\n",
       "      <td>Other (Explain Below)</td>\n",
       "      <td>11203.0</td>\n",
       "      <td>5707 CHURCH AVENUE</td>\n",
       "      <td>...</td>\n",
       "      <td>NaN</td>\n",
       "      <td>NaN</td>\n",
       "      <td>NaN</td>\n",
       "      <td>NaN</td>\n",
       "      <td>NaN</td>\n",
       "      <td>NaN</td>\n",
       "      <td>NaN</td>\n",
       "      <td>40.652536</td>\n",
       "      <td>-73.923540</td>\n",
       "      <td>(40.65253575905768, -73.92353994017134)</td>\n",
       "    </tr>\n",
       "    <tr>\n",
       "      <th>3</th>\n",
       "      <td>45287907</td>\n",
       "      <td>01/01/2020 12:00:00 AM</td>\n",
       "      <td>01/02/2020 12:00:01 AM</td>\n",
       "      <td>DOHMH</td>\n",
       "      <td>Department of Health and Mental Hygiene</td>\n",
       "      <td>Food Poisoning</td>\n",
       "      <td>3 or More</td>\n",
       "      <td>Restaurant/Bar/Deli/Bakery</td>\n",
       "      <td>11214.0</td>\n",
       "      <td>1602 SHORE PARKWAY</td>\n",
       "      <td>...</td>\n",
       "      <td>NaN</td>\n",
       "      <td>NaN</td>\n",
       "      <td>NaN</td>\n",
       "      <td>NaN</td>\n",
       "      <td>NaN</td>\n",
       "      <td>NaN</td>\n",
       "      <td>NaN</td>\n",
       "      <td>40.595653</td>\n",
       "      <td>-74.000173</td>\n",
       "      <td>(40.59565343138651, -74.00017283917487)</td>\n",
       "    </tr>\n",
       "    <tr>\n",
       "      <th>4</th>\n",
       "      <td>45288240</td>\n",
       "      <td>01/01/2020 12:00:00 AM</td>\n",
       "      <td>01/02/2020 12:00:01 AM</td>\n",
       "      <td>DOHMH</td>\n",
       "      <td>Department of Health and Mental Hygiene</td>\n",
       "      <td>Food Poisoning</td>\n",
       "      <td>1 or 2</td>\n",
       "      <td>Restaurant/Bar/Deli/Bakery</td>\n",
       "      <td>11385.0</td>\n",
       "      <td>1717 CORNELIA STREET</td>\n",
       "      <td>...</td>\n",
       "      <td>NaN</td>\n",
       "      <td>NaN</td>\n",
       "      <td>NaN</td>\n",
       "      <td>NaN</td>\n",
       "      <td>NaN</td>\n",
       "      <td>NaN</td>\n",
       "      <td>NaN</td>\n",
       "      <td>40.700366</td>\n",
       "      <td>-73.905438</td>\n",
       "      <td>(40.700366489799876, -73.90543829006366)</td>\n",
       "    </tr>\n",
       "  </tbody>\n",
       "</table>\n",
       "<p>5 rows × 41 columns</p>\n",
       "</div>"
      ],
      "text/plain": [
       "   Unique Key            Created Date             Closed Date Agency  \\\n",
       "0    45285347  01/01/2020 12:00:00 AM  01/10/2020 12:00:01 AM  DOHMH   \n",
       "1    45285651  01/01/2020 12:00:00 AM  01/02/2020 12:00:01 AM  DOHMH   \n",
       "2    45285821  01/01/2020 12:00:00 AM  01/02/2020 09:50:09 AM  DOHMH   \n",
       "3    45287907  01/01/2020 12:00:00 AM  01/02/2020 12:00:01 AM  DOHMH   \n",
       "4    45288240  01/01/2020 12:00:00 AM  01/02/2020 12:00:01 AM  DOHMH   \n",
       "\n",
       "                               Agency Name  Complaint Type Descriptor  \\\n",
       "0  Department of Health and Mental Hygiene  Food Poisoning  3 or More   \n",
       "1  Department of Health and Mental Hygiene  Food Poisoning     1 or 2   \n",
       "2  Department of Health and Mental Hygiene  Food Poisoning     1 or 2   \n",
       "3  Department of Health and Mental Hygiene  Food Poisoning  3 or More   \n",
       "4  Department of Health and Mental Hygiene  Food Poisoning     1 or 2   \n",
       "\n",
       "                Location Type  Incident Zip      Incident Address  ...  \\\n",
       "0  Restaurant/Bar/Deli/Bakery       11229.0  3442 NOSTRAND AVENUE  ...   \n",
       "1  Restaurant/Bar/Deli/Bakery       10458.0   2701 DECATUR AVENUE  ...   \n",
       "2       Other (Explain Below)       11203.0    5707 CHURCH AVENUE  ...   \n",
       "3  Restaurant/Bar/Deli/Bakery       11214.0    1602 SHORE PARKWAY  ...   \n",
       "4  Restaurant/Bar/Deli/Bakery       11385.0  1717 CORNELIA STREET  ...   \n",
       "\n",
       "  Vehicle Type Taxi Company Borough Taxi Pick Up Location Bridge Highway Name  \\\n",
       "0          NaN                  NaN                   NaN                 NaN   \n",
       "1          NaN                  NaN                   NaN                 NaN   \n",
       "2          NaN                  NaN                   NaN                 NaN   \n",
       "3          NaN                  NaN                   NaN                 NaN   \n",
       "4          NaN                  NaN                   NaN                 NaN   \n",
       "\n",
       "  Bridge Highway Direction Road Ramp Bridge Highway Segment   Latitude  \\\n",
       "0                      NaN       NaN                    NaN  40.600129   \n",
       "1                      NaN       NaN                    NaN  40.864866   \n",
       "2                      NaN       NaN                    NaN  40.652536   \n",
       "3                      NaN       NaN                    NaN  40.595653   \n",
       "4                      NaN       NaN                    NaN  40.700366   \n",
       "\n",
       "   Longitude                                  Location  \n",
       "0 -73.941843    (40.6001292057807, -73.94184291675883)  \n",
       "1 -73.888783   (40.86486556770799, -73.88878325729915)  \n",
       "2 -73.923540   (40.65253575905768, -73.92353994017134)  \n",
       "3 -74.000173   (40.59565343138651, -74.00017283917487)  \n",
       "4 -73.905438  (40.700366489799876, -73.90543829006366)  \n",
       "\n",
       "[5 rows x 41 columns]"
      ]
     },
     "execution_count": 24,
     "metadata": {},
     "output_type": "execute_result"
    }
   ],
   "source": [
    "df.head()"
   ]
  },
  {
   "cell_type": "markdown",
   "metadata": {},
   "source": [
    "# Filter \"Incident Zip\"=10019"
   ]
  },
  {
   "cell_type": "code",
   "execution_count": 25,
   "metadata": {},
   "outputs": [],
   "source": [
    "df2=df[df[\"Incident Zip\"] == 10019.0]"
   ]
  },
  {
   "cell_type": "markdown",
   "metadata": {},
   "source": [
    "# Sorting by \"Compliaint Type\" in descending order"
   ]
  },
  {
   "cell_type": "code",
   "execution_count": 26,
   "metadata": {},
   "outputs": [
    {
     "data": {
      "text/plain": [
       "Noise - Street/Sidewalk                1299\n",
       "Noise - Residential                    1144\n",
       "Homeless Person Assistance             1116\n",
       "Noise                                  1066\n",
       "Illegal Parking                         998\n",
       "HEAT/HOT WATER                          866\n",
       "Noise - Commercial                      811\n",
       "Non-Emergency Police Matter             776\n",
       "Homeless Street Condition               658\n",
       "NonCompliance with Phased Reopening     620\n",
       "Name: Complaint Type, dtype: int64"
      ]
     },
     "execution_count": 26,
     "metadata": {},
     "output_type": "execute_result"
    }
   ],
   "source": [
    "a=df2[\"Complaint Type\"].value_counts()\n",
    "top10=a.head(10)\n",
    "top10"
   ]
  }
 ],
 "metadata": {
  "kernelspec": {
   "display_name": "Python 3",
   "language": "python",
   "name": "python3"
  },
  "language_info": {
   "codemirror_mode": {
    "name": "ipython",
    "version": 3
   },
   "file_extension": ".py",
   "mimetype": "text/x-python",
   "name": "python",
   "nbconvert_exporter": "python",
   "pygments_lexer": "ipython3",
   "version": "3.7.6"
  }
 },
 "nbformat": 4,
 "nbformat_minor": 4
}
